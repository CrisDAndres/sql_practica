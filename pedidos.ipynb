{
 "cells": [
  {
   "cell_type": "code",
   "execution_count": 1,
   "metadata": {},
   "outputs": [
    {
     "name": "stdout",
     "output_type": "stream",
     "text": [
      "Requirement already satisfied: mysql-connector-python in c:\\users\\demst\\appdata\\local\\packages\\pythonsoftwarefoundation.python.3.11_qbz5n2kfra8p0\\localcache\\local-packages\\python311\\site-packages (8.3.0)\n"
     ]
    },
    {
     "name": "stderr",
     "output_type": "stream",
     "text": [
      "\n",
      "[notice] A new release of pip is available: 23.3.2 -> 24.0\n",
      "[notice] To update, run: C:\\Users\\demst\\AppData\\Local\\Microsoft\\WindowsApps\\PythonSoftwareFoundation.Python.3.11_qbz5n2kfra8p0\\python.exe -m pip install --upgrade pip\n"
     ]
    }
   ],
   "source": [
    "!pip install mysql-connector-python"
   ]
  },
  {
   "cell_type": "code",
   "execution_count": 120,
   "metadata": {},
   "outputs": [],
   "source": [
    "import mysql.connector\n",
    "from mysql.connector import Error"
   ]
  },
  {
   "cell_type": "markdown",
   "metadata": {},
   "source": [
    "## SCRIPT DE CONEXIÓN A LA BASE DE DATOS"
   ]
  },
  {
   "cell_type": "code",
   "execution_count": 138,
   "metadata": {},
   "outputs": [
    {
     "name": "stdout",
     "output_type": "stream",
     "text": [
      "Connected to MySQL database... MySQL Server version on  5.7.44-48-log\n",
      "MySQL connection is closed\n"
     ]
    }
   ],
   "source": [
    "try: \n",
    "    connection = mysql.connector.connect(host='xxx', \n",
    "                                         database='xxx',\n",
    "                                         user='xxx',\n",
    "                                         password='xxx', connection_timeout=180)\n",
    "\n",
    "    if connection.is_connected():\n",
    "        db_Info = connection.get_server_info()\n",
    "        print(\"Connected to MySQL database... MySQL Server version on \", db_Info)\n",
    "\n",
    "        cursor = connection.cursor() # Objeto importante para facilitar la ejecución de los comandos necesarios\n",
    "        connection.commit() # Para aplicar los cambios\n",
    "\n",
    "except Error as e:\n",
    "    print(\"Error while connecting to MySQL\", e)\n",
    "finally:\n",
    "    # closing database connection.\n",
    "    if connection.is_connected():\n",
    "        cursor.close()\n",
    "        connection.close()\n",
    "        print(\"MySQL connection is closed\")"
   ]
  },
  {
   "cell_type": "markdown",
   "metadata": {},
   "source": [
    "### EJEMPLO DE CONEXIÓN A UNA BASE DE DATOS DE MYSQL"
   ]
  },
  {
   "cell_type": "code",
   "execution_count": 139,
   "metadata": {},
   "outputs": [],
   "source": [
    "connection = mysql.connector.connect(host='xxx',\n",
    "                                     database='xxx',\n",
    "                                     user='xxx',\n",
    "                                     password='xxx', connection_timeout=180000)\n"
   ]
  },
  {
   "cell_type": "code",
   "execution_count": 140,
   "metadata": {},
   "outputs": [],
   "source": [
    "#conectamos el cursor, objeto importante para facilitar la ejecución de los comandos necesarios\n",
    "cursor=connection.cursor()"
   ]
  },
  {
   "cell_type": "markdown",
   "metadata": {},
   "source": [
    "### Ejercicio 1: Obtener el listado de todos los productos"
   ]
  },
  {
   "cell_type": "code",
   "execution_count": 10,
   "metadata": {},
   "outputs": [
    {
     "data": {
      "text/plain": [
       "[('01', 'Hamburguesa', 2.6),\n",
       " ('02', 'Patatas', 2.0),\n",
       " ('03', 'tomate', 0.5),\n",
       " ('04', 'Queso', 1.0),\n",
       " ('05', 'Lechuga', 0.5),\n",
       " ('06', 'Pollo', 3.6),\n",
       " ('08', 'Bacon', 1.5),\n",
       " ('09', 'Coca cola', 3.0),\n",
       " ('10', 'Nestea', 3.0),\n",
       " ('11', 'Menú de Pollo', 5.0),\n",
       " ('12', 'Menú de Hamburguesa con queso', 6.0),\n",
       " ('13', 'Menú de Pollo con queso', 6.0),\n",
       " ('14', 'Menú de Hamburguesa', 6.0),\n",
       " ('15', 'Helado', 1.0),\n",
       " ('16', 'Tarta', 2.0),\n",
       " ('17', 'Fruta', 1.0),\n",
       " ('18', 'Agua', 2.0),\n",
       " ('19', 'Fanta', 3.0)]"
      ]
     },
     "execution_count": 10,
     "metadata": {},
     "output_type": "execute_result"
    }
   ],
   "source": [
    "query1 = ''' SELECT * FROM PRODUCTO; '''\n",
    "cursor.execute(query1)\n",
    "cursor.fetchall()"
   ]
  },
  {
   "cell_type": "code",
   "execution_count": 5,
   "metadata": {},
   "outputs": [],
   "source": [
    "import pandas as pd"
   ]
  },
  {
   "cell_type": "markdown",
   "metadata": {},
   "source": [
    "Para poder visualizar la tabla, pasamos el query a dataframe"
   ]
  },
  {
   "cell_type": "code",
   "execution_count": 6,
   "metadata": {},
   "outputs": [
    {
     "name": "stderr",
     "output_type": "stream",
     "text": [
      "C:\\Users\\kina5\\AppData\\Local\\Temp\\ipykernel_13372\\3656051463.py:1: UserWarning: pandas only supports SQLAlchemy connectable (engine/connection) or database string URI or sqlite3 DBAPI2 connection. Other DBAPI2 objects are not tested. Please consider using SQLAlchemy.\n",
      "  df1 = pd.read_sql(query1, connection)\n"
     ]
    },
    {
     "data": {
      "text/html": [
       "<div>\n",
       "<style scoped>\n",
       "    .dataframe tbody tr th:only-of-type {\n",
       "        vertical-align: middle;\n",
       "    }\n",
       "\n",
       "    .dataframe tbody tr th {\n",
       "        vertical-align: top;\n",
       "    }\n",
       "\n",
       "    .dataframe thead th {\n",
       "        text-align: right;\n",
       "    }\n",
       "</style>\n",
       "<table border=\"1\" class=\"dataframe\">\n",
       "  <thead>\n",
       "    <tr style=\"text-align: right;\">\n",
       "      <th></th>\n",
       "      <th>Codigo</th>\n",
       "      <th>Nombre</th>\n",
       "      <th>Precio</th>\n",
       "    </tr>\n",
       "  </thead>\n",
       "  <tbody>\n",
       "    <tr>\n",
       "      <th>0</th>\n",
       "      <td>01</td>\n",
       "      <td>Hamburguesa</td>\n",
       "      <td>2.6</td>\n",
       "    </tr>\n",
       "    <tr>\n",
       "      <th>1</th>\n",
       "      <td>02</td>\n",
       "      <td>Patatas</td>\n",
       "      <td>2.0</td>\n",
       "    </tr>\n",
       "    <tr>\n",
       "      <th>2</th>\n",
       "      <td>03</td>\n",
       "      <td>tomate</td>\n",
       "      <td>0.5</td>\n",
       "    </tr>\n",
       "    <tr>\n",
       "      <th>3</th>\n",
       "      <td>04</td>\n",
       "      <td>Queso</td>\n",
       "      <td>1.0</td>\n",
       "    </tr>\n",
       "    <tr>\n",
       "      <th>4</th>\n",
       "      <td>05</td>\n",
       "      <td>Lechuga</td>\n",
       "      <td>0.5</td>\n",
       "    </tr>\n",
       "    <tr>\n",
       "      <th>5</th>\n",
       "      <td>06</td>\n",
       "      <td>Pollo</td>\n",
       "      <td>3.6</td>\n",
       "    </tr>\n",
       "    <tr>\n",
       "      <th>6</th>\n",
       "      <td>08</td>\n",
       "      <td>Bacon</td>\n",
       "      <td>1.5</td>\n",
       "    </tr>\n",
       "    <tr>\n",
       "      <th>7</th>\n",
       "      <td>09</td>\n",
       "      <td>Coca cola</td>\n",
       "      <td>3.0</td>\n",
       "    </tr>\n",
       "    <tr>\n",
       "      <th>8</th>\n",
       "      <td>10</td>\n",
       "      <td>Nestea</td>\n",
       "      <td>3.0</td>\n",
       "    </tr>\n",
       "    <tr>\n",
       "      <th>9</th>\n",
       "      <td>11</td>\n",
       "      <td>Menú de Pollo</td>\n",
       "      <td>5.0</td>\n",
       "    </tr>\n",
       "    <tr>\n",
       "      <th>10</th>\n",
       "      <td>12</td>\n",
       "      <td>Menú de Hamburguesa con queso</td>\n",
       "      <td>6.0</td>\n",
       "    </tr>\n",
       "    <tr>\n",
       "      <th>11</th>\n",
       "      <td>13</td>\n",
       "      <td>Menú de Pollo con queso</td>\n",
       "      <td>6.0</td>\n",
       "    </tr>\n",
       "    <tr>\n",
       "      <th>12</th>\n",
       "      <td>14</td>\n",
       "      <td>Menú de Hamburguesa</td>\n",
       "      <td>6.0</td>\n",
       "    </tr>\n",
       "    <tr>\n",
       "      <th>13</th>\n",
       "      <td>15</td>\n",
       "      <td>Helado</td>\n",
       "      <td>1.0</td>\n",
       "    </tr>\n",
       "    <tr>\n",
       "      <th>14</th>\n",
       "      <td>16</td>\n",
       "      <td>Tarta</td>\n",
       "      <td>2.0</td>\n",
       "    </tr>\n",
       "    <tr>\n",
       "      <th>15</th>\n",
       "      <td>17</td>\n",
       "      <td>Fruta</td>\n",
       "      <td>1.0</td>\n",
       "    </tr>\n",
       "    <tr>\n",
       "      <th>16</th>\n",
       "      <td>18</td>\n",
       "      <td>Agua</td>\n",
       "      <td>2.0</td>\n",
       "    </tr>\n",
       "    <tr>\n",
       "      <th>17</th>\n",
       "      <td>19</td>\n",
       "      <td>Fanta</td>\n",
       "      <td>3.0</td>\n",
       "    </tr>\n",
       "  </tbody>\n",
       "</table>\n",
       "</div>"
      ],
      "text/plain": [
       "   Codigo                         Nombre  Precio\n",
       "0      01                    Hamburguesa     2.6\n",
       "1      02                        Patatas     2.0\n",
       "2      03                         tomate     0.5\n",
       "3      04                          Queso     1.0\n",
       "4      05                        Lechuga     0.5\n",
       "5      06                          Pollo     3.6\n",
       "6      08                          Bacon     1.5\n",
       "7      09                      Coca cola     3.0\n",
       "8      10                         Nestea     3.0\n",
       "9      11                  Menú de Pollo     5.0\n",
       "10     12  Menú de Hamburguesa con queso     6.0\n",
       "11     13        Menú de Pollo con queso     6.0\n",
       "12     14            Menú de Hamburguesa     6.0\n",
       "13     15                         Helado     1.0\n",
       "14     16                          Tarta     2.0\n",
       "15     17                          Fruta     1.0\n",
       "16     18                           Agua     2.0\n",
       "17     19                          Fanta     3.0"
      ]
     },
     "execution_count": 6,
     "metadata": {},
     "output_type": "execute_result"
    }
   ],
   "source": [
    "df1 = pd.read_sql(query1, connection) # Para verlo en formato dataframe de pandas\n",
    "df1"
   ]
  },
  {
   "cell_type": "markdown",
   "metadata": {},
   "source": [
    "### Ejercicio 2: Obtener el número de pedido, dni del repartidor y hora de reparto de aquellos pedidos que se toman nota después de las siete de la tarde"
   ]
  },
  {
   "cell_type": "code",
   "execution_count": 11,
   "metadata": {},
   "outputs": [
    {
     "data": {
      "text/plain": [
       "[('0005', '14188151T', datetime.timedelta(seconds=68520)),\n",
       " ('0006', '04477744T', datetime.timedelta(seconds=75720)),\n",
       " ('0007', '14188151T', datetime.timedelta(seconds=83100))]"
      ]
     },
     "execution_count": 11,
     "metadata": {},
     "output_type": "execute_result"
    }
   ],
   "source": [
    "query2 = \"\"\" SELECT Numero, DNI_R, hora_tm\n",
    "FROM PEDIDO\n",
    "WHERE hora_tm > '19:00:00'\n",
    "AND DNI_R IS NOT null; \"\"\"\n",
    "cursor.execute(query2)\n",
    "cursor.fetchall()"
   ]
  },
  {
   "cell_type": "code",
   "execution_count": 12,
   "metadata": {},
   "outputs": [
    {
     "name": "stderr",
     "output_type": "stream",
     "text": [
      "C:\\Users\\kina5\\AppData\\Local\\Temp\\ipykernel_13372\\3976681190.py:1: UserWarning: pandas only supports SQLAlchemy connectable (engine/connection) or database string URI or sqlite3 DBAPI2 connection. Other DBAPI2 objects are not tested. Please consider using SQLAlchemy.\n",
      "  df2 = pd.read_sql(query2, con=connection)\n"
     ]
    },
    {
     "data": {
      "text/html": [
       "<div>\n",
       "<style scoped>\n",
       "    .dataframe tbody tr th:only-of-type {\n",
       "        vertical-align: middle;\n",
       "    }\n",
       "\n",
       "    .dataframe tbody tr th {\n",
       "        vertical-align: top;\n",
       "    }\n",
       "\n",
       "    .dataframe thead th {\n",
       "        text-align: right;\n",
       "    }\n",
       "</style>\n",
       "<table border=\"1\" class=\"dataframe\">\n",
       "  <thead>\n",
       "    <tr style=\"text-align: right;\">\n",
       "      <th></th>\n",
       "      <th>Numero</th>\n",
       "      <th>DNI_R</th>\n",
       "      <th>hora_tm</th>\n",
       "    </tr>\n",
       "  </thead>\n",
       "  <tbody>\n",
       "    <tr>\n",
       "      <th>0</th>\n",
       "      <td>0005</td>\n",
       "      <td>14188151T</td>\n",
       "      <td>0 days 19:02:00</td>\n",
       "    </tr>\n",
       "    <tr>\n",
       "      <th>1</th>\n",
       "      <td>0006</td>\n",
       "      <td>04477744T</td>\n",
       "      <td>0 days 21:02:00</td>\n",
       "    </tr>\n",
       "    <tr>\n",
       "      <th>2</th>\n",
       "      <td>0007</td>\n",
       "      <td>14188151T</td>\n",
       "      <td>0 days 23:05:00</td>\n",
       "    </tr>\n",
       "  </tbody>\n",
       "</table>\n",
       "</div>"
      ],
      "text/plain": [
       "  Numero      DNI_R         hora_tm\n",
       "0   0005  14188151T 0 days 19:02:00\n",
       "1   0006  04477744T 0 days 21:02:00\n",
       "2   0007  14188151T 0 days 23:05:00"
      ]
     },
     "execution_count": 12,
     "metadata": {},
     "output_type": "execute_result"
    }
   ],
   "source": [
    "df2 = pd.read_sql(query2, con=connection)\n",
    "df2"
   ]
  },
  {
   "cell_type": "markdown",
   "metadata": {},
   "source": [
    "### Ejercicio 3: Obtener todos los campos de empleados que cobran entre 900 y 1000 euros."
   ]
  },
  {
   "cell_type": "code",
   "execution_count": 18,
   "metadata": {},
   "outputs": [
    {
     "data": {
      "text/plain": [
       "[('04444444T', 'Úrsula Delta Camacho', '11177788899', 'mañana', 900.0),\n",
       " ('11111111Q', 'Luis Ramírez Pardo', '23445556666', 'mañana', 900.0),\n",
       " ('14111155T', 'Sergio Lérida Campos', '55577700089', 'tarde', 1000.0),\n",
       " ('22222222S', 'María Sánchez Cid', '11112223334', 'tarde', 1000.0),\n",
       " ('33333333M', 'Martín Guerrero López', '33344455566', 'tarde', 1000.0),\n",
       " ('55555555J', 'Carmen Hernández Pío', '99966633311', 'mañana', 900.0),\n",
       " ('77777777M', 'Pedro Jiménez Ruiz', '23456785432', 'tarde', 1000.0),\n",
       " ('99999999X', 'Raúl Rodrigo Roca', '55566677789', 'tarde', 1000.0)]"
      ]
     },
     "execution_count": 18,
     "metadata": {},
     "output_type": "execute_result"
    }
   ],
   "source": [
    "query3 = \"\"\" SELECT *\n",
    "FROM EMPLEADO\n",
    "WHERE Salario BETWEEN 900 and 1000; \"\"\"\n",
    "cursor.execute(query3)\n",
    "cursor.fetchall()"
   ]
  },
  {
   "cell_type": "markdown",
   "metadata": {},
   "source": [
    "### Ejercicio 4: Obtener el número de pedido e importe de aquellos que han sido registrados en el mes de noviembre de 2020 y su importe es mayor a 15 Euros."
   ]
  },
  {
   "cell_type": "code",
   "execution_count": 19,
   "metadata": {},
   "outputs": [
    {
     "data": {
      "text/plain": [
       "[('0006', 23.0), ('0009', 25.0), ('0010', 45.0), ('0011', 45.0)]"
      ]
     },
     "execution_count": 19,
     "metadata": {},
     "output_type": "execute_result"
    }
   ],
   "source": [
    "query4 = \"\"\" SELECT Numero, Importe\n",
    "FROM PEDIDO\n",
    "WHERE Fecha LIKE '2020-11%' and Importe > 15; \"\"\"\n",
    "cursor.execute(query4)\n",
    "cursor.fetchall()"
   ]
  },
  {
   "cell_type": "markdown",
   "metadata": {},
   "source": [
    "### Ejercicio 5: Obtener por cada uno de los repartidores su DNI junto a la cantidad de pedidos entregados."
   ]
  },
  {
   "cell_type": "code",
   "execution_count": 20,
   "metadata": {},
   "outputs": [
    {
     "data": {
      "text/plain": [
       "[('04477744T', 2),\n",
       " ('11245621Q', 1),\n",
       " ('14188151T', 2),\n",
       " ('55675675J', 1),\n",
       " ('99009900J', 3)]"
      ]
     },
     "execution_count": 20,
     "metadata": {},
     "output_type": "execute_result"
    }
   ],
   "source": [
    "query5 = \"\"\" SELECT DNI_R, COUNT(*) /* Dentro de COUNT también podemos poner solo una variable, como Numero */\n",
    "FROM PEDIDO\n",
    "WHERE DNI_R IS NOT NULL\n",
    "GROUP BY DNI_R; \"\"\"\n",
    "cursor.execute(query5)\n",
    "cursor.fetchall()"
   ]
  },
  {
   "cell_type": "markdown",
   "metadata": {},
   "source": [
    "### Ejercicio 6: Obtener por cada mes (con el formato de nombre y no de número ej. Noviembre), la cantidad de pedidos realizados."
   ]
  },
  {
   "cell_type": "code",
   "execution_count": 21,
   "metadata": {},
   "outputs": [
    {
     "data": {
      "text/plain": [
       "[('November', 6), ('October', 2), ('September', 3)]"
      ]
     },
     "execution_count": 21,
     "metadata": {},
     "output_type": "execute_result"
    }
   ],
   "source": [
    "query6 = \"\"\" SELECT MONTHNAME(p.fecha) AS Mes, COUNT(p.Numero) AS 'Pedidos Realizados'\n",
    "FROM PEDIDO p\n",
    "GROUP BY MONTHNAME(p.fecha); \"\"\"\n",
    "cursor.execute(query6)\n",
    "cursor.fetchall()"
   ]
  },
  {
   "cell_type": "markdown",
   "metadata": {},
   "source": [
    "### Ejercicio 7: Obtener un listado con el nombre y dni de los empleados en el mismo campo y anteponiendo el dni al nombre de la siguiente forma (ej; 45776633P, Juan Rodríguez López) que tenga turno de “tarde” o \"noche\". Ordenar el listado por dni."
   ]
  },
  {
   "cell_type": "code",
   "execution_count": 22,
   "metadata": {},
   "outputs": [
    {
     "data": {
      "text/plain": [
       "[('03232323P, María Luisa Galdón Ter', 'noche'),\n",
       " ('04444444T, Úrsula Delta Camacho', 'mañana'),\n",
       " ('11111111Q, Luis Ramírez Pardo', 'mañana'),\n",
       " ('14111155T, Sergio Lérida Campos', 'tarde'),\n",
       " ('14567555L, Piedad Colmenero Zapillo', 'noche'),\n",
       " ('22222222S, María Sánchez Cid', 'tarde'),\n",
       " ('33333333M, Martín Guerrero López', 'tarde'),\n",
       " ('55555555J, Carmen Hernández Pío', 'mañana'),\n",
       " ('77777777M, Pedro Jiménez Ruiz', 'tarde'),\n",
       " ('88888888O, Soledad Campillo Molina', 'noche'),\n",
       " ('99999999X, Raúl Rodrigo Roca', 'tarde')]"
      ]
     },
     "execution_count": 22,
     "metadata": {},
     "output_type": "execute_result"
    }
   ],
   "source": [
    "query7 = \"\"\" SELECT CONCAT (e.DNI,', ',e.Nombre) AS Nombre_DNI, e.Turno /* He añadido e.Turno para que salga el turno de cada uno */\n",
    "FROM EMPLEADO e\n",
    "WHERE e.Turno IN ('Tarde','Noche') IS NOT NULL\n",
    "ORDER BY e.DNI; \"\"\"\n",
    "cursor.execute(query7)\n",
    "cursor.fetchall()"
   ]
  },
  {
   "cell_type": "markdown",
   "metadata": {},
   "source": [
    "### Ejercicio 8: Obtener el nombre, código y precio de aquellos productos que superen o igualen la media de todos los precios. Ordenar de mayor a menor precio."
   ]
  },
  {
   "cell_type": "code",
   "execution_count": 24,
   "metadata": {},
   "outputs": [
    {
     "data": {
      "text/plain": [
       "[('Menú de Hamburguesa con queso', '12', 6.0),\n",
       " ('Menú de Pollo con queso', '13', 6.0),\n",
       " ('Menú de Hamburguesa', '14', 6.0),\n",
       " ('Menú de Pollo', '11', 5.0),\n",
       " ('Pollo', '06', 3.6),\n",
       " ('Coca cola', '09', 3.0),\n",
       " ('Nestea', '10', 3.0),\n",
       " ('Fanta', '19', 3.0)]"
      ]
     },
     "execution_count": 24,
     "metadata": {},
     "output_type": "execute_result"
    }
   ],
   "source": [
    "query8 = \"\"\" SELECT Nombre, Codigo, Precio\n",
    "FROM PRODUCTO\n",
    "WHERE Precio >=  (SELECT AVG(Precio) FROM PRODUCTO) /* Usando subconsulta */\n",
    "ORDER BY Precio DESC; \"\"\"\n",
    "cursor.execute(query8)\n",
    "cursor.fetchall()"
   ]
  },
  {
   "cell_type": "markdown",
   "metadata": {},
   "source": [
    "### Ejercicio 9: Obtener un listado con el nombre y DNI de los empleados que no han preparado nunca ningún pedido."
   ]
  },
  {
   "cell_type": "code",
   "execution_count": 30,
   "metadata": {},
   "outputs": [
    {
     "data": {
      "text/plain": [
       "[('Luis Ramírez Pardo', '11111111Q'),\n",
       " ('Sergio Lérida Campos', '14111155T'),\n",
       " ('Raúl Rodrigo Roca', '99999999X')]"
      ]
     },
     "execution_count": 30,
     "metadata": {},
     "output_type": "execute_result"
    }
   ],
   "source": [
    "query9 = \"\"\" SELECT Nombre, DNI\n",
    "FROM EMPLEADO\n",
    "WHERE DNI NOT IN (SELECT DNI_EP FROM PEDIDO); \"\"\"\n",
    "cursor.execute(query9)\n",
    "cursor.fetchall()"
   ]
  },
  {
   "cell_type": "markdown",
   "metadata": {},
   "source": [
    "### Ejercicio 10: Obtener el código, nombre y precio de los productos (estos dos últimos en el mismo campo) que están contenidos en los pedidos que ha tomado nota \"Luis\" o \"María Luisa\". Ordena el listado de mayor a menor valor por fecha del pedido."
   ]
  },
  {
   "cell_type": "code",
   "execution_count": 36,
   "metadata": {},
   "outputs": [
    {
     "data": {
      "text/plain": [
       "[('12', 'Menú de Hamburguesa con queso - 6.00'),\n",
       " ('11', 'Menú de Pollo - 5.00'),\n",
       " ('02', 'Patatas - 2.00'),\n",
       " ('09', 'Coca cola - 3.00'),\n",
       " ('12', 'Menú de Hamburguesa con queso - 6.00')]"
      ]
     },
     "execution_count": 36,
     "metadata": {},
     "output_type": "execute_result"
    }
   ],
   "source": [
    "query10 = \"\"\" SELECT p.Codigo, CONCAT(p.Nombre,' - ',p.Precio) AS 'Nombre - Precio' FROM PRODUCTO p\n",
    "JOIN consta c ON p.Codigo = c.Codigo_Pr\n",
    "JOIN PEDIDO pe ON c.Numero_P = pe.Numero\n",
    "JOIN EMPLEADO e ON pe.DNI_ETM = e.DNI\n",
    "WHERE e.Nombre LIKE 'María Luisa%' \n",
    "OR e.Nombre LIKE 'Luis%'\n",
    "ORDER BY pe.Fecha DESC; \"\"\"\n",
    "cursor.execute(query10)\n",
    "cursor.fetchall()"
   ]
  },
  {
   "cell_type": "markdown",
   "metadata": {},
   "source": [
    "### Ejercicio 11: Obtener por cada repartidor, su nombre, cantidad de pedidos y el tiempo medio que tardan en entregar los pedidos una vez preparados. Ordenar el listado el tiempo medio que tardan en entregarlos."
   ]
  },
  {
   "cell_type": "code",
   "execution_count": 38,
   "metadata": {},
   "outputs": [
    {
     "data": {
      "text/plain": [
       "[('Laura Jiménez Jiménez', 2, '00:12:50'),\n",
       " ('Juan Pardo Rubio', 1, '00:15:00'),\n",
       " ('Carlos Sánchez Ruíz', 2, '00:19:00'),\n",
       " ('Alejandro Pardo López', 3, '00:25:00'),\n",
       " ('Juan Sánchez López', 1, '00:30:00')]"
      ]
     },
     "execution_count": 38,
     "metadata": {},
     "output_type": "execute_result"
    }
   ],
   "source": [
    "query11 = \"\"\" SELECT\n",
    "\tr.Nombre AS 'Nombre repartidor',\n",
    "    COUNT(pe.Numero) AS 'Pedidos totales',\n",
    "    TIME_FORMAT(AVG(TIMEDIFF(Hora_rep,Hora_pre)),'%T') AS 'Tiempo medio de entrega'\n",
    "FROM REPARTIDOR r\n",
    "JOIN PEDIDO pe ON r.DNI = pe.DNI_R\n",
    "GROUP BY r.Nombre\n",
    "ORDER BY 3; \"\"\"\n",
    "cursor.execute(query11)\n",
    "cursor.fetchall()"
   ]
  },
  {
   "cell_type": "markdown",
   "metadata": {},
   "source": [
    "### Ejercicio 12: Obtener un listado obteniendo el código, nombre y el precio de los productos cuyo precios sea el más barato o el más caro de todos."
   ]
  },
  {
   "cell_type": "code",
   "execution_count": 43,
   "metadata": {},
   "outputs": [
    {
     "data": {
      "text/plain": [
       "[('03', 'tomate', 0.5),\n",
       " ('05', 'Lechuga', 0.5),\n",
       " ('12', 'Menú de Hamburguesa con queso', 6.0),\n",
       " ('13', 'Menú de Pollo con queso', 6.0),\n",
       " ('14', 'Menú de Hamburguesa', 6.0)]"
      ]
     },
     "execution_count": 43,
     "metadata": {},
     "output_type": "execute_result"
    }
   ],
   "source": [
    "query12 = \"\"\" SELECT Codigo, Nombre, Precio\n",
    "FROM PRODUCTO\n",
    "WHERE Precio = (SELECT MIN(Precio) FROM PRODUCTO)\n",
    "   OR Precio = (SELECT MAX(Precio) FROM PRODUCTO); \"\"\"\n",
    "cursor.execute(query12)\n",
    "cursor.fetchall()"
   ]
  },
  {
   "cell_type": "markdown",
   "metadata": {},
   "source": [
    "### Ejercicio 13: Obtener por cada producto , el nombre y código el número total de pedidos en los que se encuentra teniendo en cuenta que el total de pedidos en los cuales se encuentre sea superior o igual a dos. Ordena el listado de mayor a menor número de productos."
   ]
  },
  {
   "cell_type": "code",
   "execution_count": 142,
   "metadata": {},
   "outputs": [
    {
     "data": {
      "text/plain": [
       "[('Menú de Hamburguesa con queso', '12', 6),\n",
       " ('Menú de Pollo con queso', '13', 6),\n",
       " ('Queso', '04', 3),\n",
       " ('Menú de Pollo', '11', 3),\n",
       " ('Patatas', '02', 2),\n",
       " ('Helado', '15', 2)]"
      ]
     },
     "execution_count": 142,
     "metadata": {},
     "output_type": "execute_result"
    }
   ],
   "source": [
    "query13 = \"\"\" SELECT p.Nombre, p.Codigo, COUNT(pe.Numero) AS 'Número total de pedidos con este producto'\n",
    "FROM PRODUCTO p\n",
    "JOIN consta c ON p.Codigo = c.Codigo_PR\n",
    "JOIN PEDIDO pe ON c.Numero_P = pe.Numero\n",
    "GROUP BY p.Nombre, p.Codigo\n",
    "HAVING COUNT(pe.Numero) >= 2 \n",
    "ORDER BY COUNT(pe.Numero) DESC; \"\"\"\n",
    "cursor.execute(query13)\n",
    "cursor.fetchall()"
   ]
  },
  {
   "cell_type": "code",
   "execution_count": 143,
   "metadata": {},
   "outputs": [
    {
     "name": "stderr",
     "output_type": "stream",
     "text": [
      "C:\\Users\\kina5\\AppData\\Local\\Temp\\ipykernel_13372\\1378722908.py:1: UserWarning: pandas only supports SQLAlchemy connectable (engine/connection) or database string URI or sqlite3 DBAPI2 connection. Other DBAPI2 objects are not tested. Please consider using SQLAlchemy.\n",
      "  df13 = pd.read_sql(query13, connection)\n"
     ]
    },
    {
     "data": {
      "text/html": [
       "<div>\n",
       "<style scoped>\n",
       "    .dataframe tbody tr th:only-of-type {\n",
       "        vertical-align: middle;\n",
       "    }\n",
       "\n",
       "    .dataframe tbody tr th {\n",
       "        vertical-align: top;\n",
       "    }\n",
       "\n",
       "    .dataframe thead th {\n",
       "        text-align: right;\n",
       "    }\n",
       "</style>\n",
       "<table border=\"1\" class=\"dataframe\">\n",
       "  <thead>\n",
       "    <tr style=\"text-align: right;\">\n",
       "      <th></th>\n",
       "      <th>Nombre</th>\n",
       "      <th>Codigo</th>\n",
       "      <th>Número total de pedidos con este producto</th>\n",
       "    </tr>\n",
       "  </thead>\n",
       "  <tbody>\n",
       "    <tr>\n",
       "      <th>0</th>\n",
       "      <td>Menú de Pollo con queso</td>\n",
       "      <td>13</td>\n",
       "      <td>6</td>\n",
       "    </tr>\n",
       "    <tr>\n",
       "      <th>1</th>\n",
       "      <td>Menú de Hamburguesa con queso</td>\n",
       "      <td>12</td>\n",
       "      <td>6</td>\n",
       "    </tr>\n",
       "    <tr>\n",
       "      <th>2</th>\n",
       "      <td>Menú de Pollo</td>\n",
       "      <td>11</td>\n",
       "      <td>3</td>\n",
       "    </tr>\n",
       "    <tr>\n",
       "      <th>3</th>\n",
       "      <td>Queso</td>\n",
       "      <td>04</td>\n",
       "      <td>3</td>\n",
       "    </tr>\n",
       "    <tr>\n",
       "      <th>4</th>\n",
       "      <td>Helado</td>\n",
       "      <td>15</td>\n",
       "      <td>2</td>\n",
       "    </tr>\n",
       "    <tr>\n",
       "      <th>5</th>\n",
       "      <td>Patatas</td>\n",
       "      <td>02</td>\n",
       "      <td>2</td>\n",
       "    </tr>\n",
       "  </tbody>\n",
       "</table>\n",
       "</div>"
      ],
      "text/plain": [
       "                          Nombre Codigo  \\\n",
       "0        Menú de Pollo con queso     13   \n",
       "1  Menú de Hamburguesa con queso     12   \n",
       "2                  Menú de Pollo     11   \n",
       "3                          Queso     04   \n",
       "4                         Helado     15   \n",
       "5                        Patatas     02   \n",
       "\n",
       "   Número total de pedidos con este producto  \n",
       "0                                          6  \n",
       "1                                          6  \n",
       "2                                          3  \n",
       "3                                          3  \n",
       "4                                          2  \n",
       "5                                          2  "
      ]
     },
     "execution_count": 143,
     "metadata": {},
     "output_type": "execute_result"
    }
   ],
   "source": [
    "df13 = pd.read_sql(query13, connection) \n",
    "df13"
   ]
  },
  {
   "cell_type": "markdown",
   "metadata": {},
   "source": [
    "### Ejercicio 14: Mostrar listado de los empleados (código y NSS en la misma columna) que han tomado nota de algún pedido y contienen el producto de código 13 y además el repartidor sea 'Laura'."
   ]
  },
  {
   "cell_type": "code",
   "execution_count": 91,
   "metadata": {},
   "outputs": [
    {
     "data": {
      "text/plain": [
       "[('Raúl Rodrigo Roca', '99999999X-55566677789'),\n",
       " ('Piedad Colmenero Zapillo', '14567555L-23456734534')]"
      ]
     },
     "execution_count": 91,
     "metadata": {},
     "output_type": "execute_result"
    }
   ],
   "source": [
    "query14 = \"\"\" SELECT e.Nombre, CONCAT(e.DNI, '-',e.Nss) AS 'DNI - NSS' FROM EMPLEADO e \n",
    "JOIN PEDIDO p ON e.DNI = p.DNI_ETM\n",
    "JOIN consta c ON p.Numero = c.Numero_P\n",
    "JOIN PRODUCTO pr ON c.Codigo_Pr = pr.Codigo\n",
    "JOIN REPARTIDOR r ON p.DNI_R = r.DNI\n",
    "WHERE c.Codigo_Pr = '13'\n",
    "AND r.Nombre LIKE 'Laura%'; \"\"\"\n",
    "cursor.execute(query14)\n",
    "cursor.fetchall()"
   ]
  },
  {
   "cell_type": "markdown",
   "metadata": {},
   "source": [
    "### Ejercicio 15: Obtener el nombre del producto que es menú junto con el código de los productos que lo componen en aquellos pedidos del mes de septiembre de 2020."
   ]
  },
  {
   "cell_type": "code",
   "execution_count": 130,
   "metadata": {},
   "outputs": [
    {
     "data": {
      "text/plain": [
       "[('Menú de Hamburguesa con queso', '12', '01', 'Hamburguesa'),\n",
       " ('Menú de Hamburguesa con queso', '12', '02', 'Patatas'),\n",
       " ('Menú de Hamburguesa con queso', '12', '04', 'Queso'),\n",
       " ('Menú de Hamburguesa con queso', '12', '10', 'Nestea'),\n",
       " ('Menú de Hamburguesa con queso', '12', '16', 'Tarta'),\n",
       " ('Menú de Pollo con queso', '13', '02', 'Patatas'),\n",
       " ('Menú de Pollo con queso', '13', '04', 'Queso'),\n",
       " ('Menú de Pollo con queso', '13', '06', 'Pollo'),\n",
       " ('Menú de Pollo con queso', '13', '08', 'Bacon'),\n",
       " ('Menú de Pollo con queso', '13', '09', 'Coca cola'),\n",
       " ('Menú de Pollo con queso', '13', '15', 'Helado'),\n",
       " ('Menú de Hamburguesa con queso', '12', '01', 'Hamburguesa'),\n",
       " ('Menú de Hamburguesa con queso', '12', '02', 'Patatas'),\n",
       " ('Menú de Hamburguesa con queso', '12', '04', 'Queso'),\n",
       " ('Menú de Hamburguesa con queso', '12', '10', 'Nestea'),\n",
       " ('Menú de Hamburguesa con queso', '12', '16', 'Tarta'),\n",
       " ('Menú de Pollo', '11', '02', 'Patatas'),\n",
       " ('Menú de Pollo', '11', '03', 'tomate'),\n",
       " ('Menú de Pollo', '11', '06', 'Pollo'),\n",
       " ('Menú de Pollo', '11', '17', 'Fruta'),\n",
       " ('Menú de Pollo', '11', '18', 'Agua'),\n",
       " ('Menú de Pollo con queso', '13', '02', 'Patatas'),\n",
       " ('Menú de Pollo con queso', '13', '04', 'Queso'),\n",
       " ('Menú de Pollo con queso', '13', '06', 'Pollo'),\n",
       " ('Menú de Pollo con queso', '13', '08', 'Bacon'),\n",
       " ('Menú de Pollo con queso', '13', '09', 'Coca cola'),\n",
       " ('Menú de Pollo con queso', '13', '15', 'Helado')]"
      ]
     },
     "execution_count": 130,
     "metadata": {},
     "output_type": "execute_result"
    }
   ],
   "source": [
    "query15 = \"\"\" SELECT p.Nombre AS 'Nombre del producto que compone el pedido', p.Codigo AS 'Código producto', ec.Codigo_P_compuesto AS 'Código producto que lo compone', PRODUCTO.Nombre as 'Descripción producto que lo compone'\n",
    "FROM PRODUCTO p\n",
    "JOIN esta_compuesto ec ON p.Codigo = ec.Codigo_P -- El esta_compuesto son todos menús, así que no tengo que especificar que solo quiero los menús\n",
    "JOIN consta c ON p.Codigo = c.codigo_Pr\n",
    "JOIN PEDIDO pe ON c.Numero_P = pe.Numero\n",
    "JOIN PRODUCTO PRODUCTO ON Codigo_P_compuesto = PRODUCTO.codigo\n",
    "WHERE pe.Fecha BETWEEN '2020-09-01' AND '2020-09-30'; \"\"\"\n",
    "cursor.execute(query15)\n",
    "cursor.fetchall()"
   ]
  },
  {
   "cell_type": "code",
   "execution_count": 131,
   "metadata": {},
   "outputs": [
    {
     "name": "stderr",
     "output_type": "stream",
     "text": [
      "C:\\Users\\kina5\\AppData\\Local\\Temp\\ipykernel_13372\\3366465357.py:1: UserWarning: pandas only supports SQLAlchemy connectable (engine/connection) or database string URI or sqlite3 DBAPI2 connection. Other DBAPI2 objects are not tested. Please consider using SQLAlchemy.\n",
      "  df15 = pd.read_sql(query15, connection)\n"
     ]
    },
    {
     "data": {
      "text/html": [
       "<div>\n",
       "<style scoped>\n",
       "    .dataframe tbody tr th:only-of-type {\n",
       "        vertical-align: middle;\n",
       "    }\n",
       "\n",
       "    .dataframe tbody tr th {\n",
       "        vertical-align: top;\n",
       "    }\n",
       "\n",
       "    .dataframe thead th {\n",
       "        text-align: right;\n",
       "    }\n",
       "</style>\n",
       "<table border=\"1\" class=\"dataframe\">\n",
       "  <thead>\n",
       "    <tr style=\"text-align: right;\">\n",
       "      <th></th>\n",
       "      <th>Nombre del producto que compone el pedido</th>\n",
       "      <th>Código producto</th>\n",
       "      <th>Código producto que lo compone</th>\n",
       "      <th>Descripción producto que lo compone</th>\n",
       "    </tr>\n",
       "  </thead>\n",
       "  <tbody>\n",
       "    <tr>\n",
       "      <th>0</th>\n",
       "      <td>Menú de Hamburguesa con queso</td>\n",
       "      <td>12</td>\n",
       "      <td>01</td>\n",
       "      <td>Hamburguesa</td>\n",
       "    </tr>\n",
       "    <tr>\n",
       "      <th>1</th>\n",
       "      <td>Menú de Hamburguesa con queso</td>\n",
       "      <td>12</td>\n",
       "      <td>02</td>\n",
       "      <td>Patatas</td>\n",
       "    </tr>\n",
       "    <tr>\n",
       "      <th>2</th>\n",
       "      <td>Menú de Hamburguesa con queso</td>\n",
       "      <td>12</td>\n",
       "      <td>04</td>\n",
       "      <td>Queso</td>\n",
       "    </tr>\n",
       "    <tr>\n",
       "      <th>3</th>\n",
       "      <td>Menú de Hamburguesa con queso</td>\n",
       "      <td>12</td>\n",
       "      <td>10</td>\n",
       "      <td>Nestea</td>\n",
       "    </tr>\n",
       "    <tr>\n",
       "      <th>4</th>\n",
       "      <td>Menú de Hamburguesa con queso</td>\n",
       "      <td>12</td>\n",
       "      <td>16</td>\n",
       "      <td>Tarta</td>\n",
       "    </tr>\n",
       "    <tr>\n",
       "      <th>5</th>\n",
       "      <td>Menú de Pollo con queso</td>\n",
       "      <td>13</td>\n",
       "      <td>02</td>\n",
       "      <td>Patatas</td>\n",
       "    </tr>\n",
       "    <tr>\n",
       "      <th>6</th>\n",
       "      <td>Menú de Pollo con queso</td>\n",
       "      <td>13</td>\n",
       "      <td>04</td>\n",
       "      <td>Queso</td>\n",
       "    </tr>\n",
       "    <tr>\n",
       "      <th>7</th>\n",
       "      <td>Menú de Pollo con queso</td>\n",
       "      <td>13</td>\n",
       "      <td>06</td>\n",
       "      <td>Pollo</td>\n",
       "    </tr>\n",
       "    <tr>\n",
       "      <th>8</th>\n",
       "      <td>Menú de Pollo con queso</td>\n",
       "      <td>13</td>\n",
       "      <td>08</td>\n",
       "      <td>Bacon</td>\n",
       "    </tr>\n",
       "    <tr>\n",
       "      <th>9</th>\n",
       "      <td>Menú de Pollo con queso</td>\n",
       "      <td>13</td>\n",
       "      <td>09</td>\n",
       "      <td>Coca cola</td>\n",
       "    </tr>\n",
       "    <tr>\n",
       "      <th>10</th>\n",
       "      <td>Menú de Pollo con queso</td>\n",
       "      <td>13</td>\n",
       "      <td>15</td>\n",
       "      <td>Helado</td>\n",
       "    </tr>\n",
       "    <tr>\n",
       "      <th>11</th>\n",
       "      <td>Menú de Hamburguesa con queso</td>\n",
       "      <td>12</td>\n",
       "      <td>01</td>\n",
       "      <td>Hamburguesa</td>\n",
       "    </tr>\n",
       "    <tr>\n",
       "      <th>12</th>\n",
       "      <td>Menú de Hamburguesa con queso</td>\n",
       "      <td>12</td>\n",
       "      <td>02</td>\n",
       "      <td>Patatas</td>\n",
       "    </tr>\n",
       "    <tr>\n",
       "      <th>13</th>\n",
       "      <td>Menú de Hamburguesa con queso</td>\n",
       "      <td>12</td>\n",
       "      <td>04</td>\n",
       "      <td>Queso</td>\n",
       "    </tr>\n",
       "    <tr>\n",
       "      <th>14</th>\n",
       "      <td>Menú de Hamburguesa con queso</td>\n",
       "      <td>12</td>\n",
       "      <td>10</td>\n",
       "      <td>Nestea</td>\n",
       "    </tr>\n",
       "    <tr>\n",
       "      <th>15</th>\n",
       "      <td>Menú de Hamburguesa con queso</td>\n",
       "      <td>12</td>\n",
       "      <td>16</td>\n",
       "      <td>Tarta</td>\n",
       "    </tr>\n",
       "    <tr>\n",
       "      <th>16</th>\n",
       "      <td>Menú de Pollo</td>\n",
       "      <td>11</td>\n",
       "      <td>02</td>\n",
       "      <td>Patatas</td>\n",
       "    </tr>\n",
       "    <tr>\n",
       "      <th>17</th>\n",
       "      <td>Menú de Pollo</td>\n",
       "      <td>11</td>\n",
       "      <td>03</td>\n",
       "      <td>tomate</td>\n",
       "    </tr>\n",
       "    <tr>\n",
       "      <th>18</th>\n",
       "      <td>Menú de Pollo</td>\n",
       "      <td>11</td>\n",
       "      <td>06</td>\n",
       "      <td>Pollo</td>\n",
       "    </tr>\n",
       "    <tr>\n",
       "      <th>19</th>\n",
       "      <td>Menú de Pollo</td>\n",
       "      <td>11</td>\n",
       "      <td>17</td>\n",
       "      <td>Fruta</td>\n",
       "    </tr>\n",
       "    <tr>\n",
       "      <th>20</th>\n",
       "      <td>Menú de Pollo</td>\n",
       "      <td>11</td>\n",
       "      <td>18</td>\n",
       "      <td>Agua</td>\n",
       "    </tr>\n",
       "    <tr>\n",
       "      <th>21</th>\n",
       "      <td>Menú de Pollo con queso</td>\n",
       "      <td>13</td>\n",
       "      <td>02</td>\n",
       "      <td>Patatas</td>\n",
       "    </tr>\n",
       "    <tr>\n",
       "      <th>22</th>\n",
       "      <td>Menú de Pollo con queso</td>\n",
       "      <td>13</td>\n",
       "      <td>04</td>\n",
       "      <td>Queso</td>\n",
       "    </tr>\n",
       "    <tr>\n",
       "      <th>23</th>\n",
       "      <td>Menú de Pollo con queso</td>\n",
       "      <td>13</td>\n",
       "      <td>06</td>\n",
       "      <td>Pollo</td>\n",
       "    </tr>\n",
       "    <tr>\n",
       "      <th>24</th>\n",
       "      <td>Menú de Pollo con queso</td>\n",
       "      <td>13</td>\n",
       "      <td>08</td>\n",
       "      <td>Bacon</td>\n",
       "    </tr>\n",
       "    <tr>\n",
       "      <th>25</th>\n",
       "      <td>Menú de Pollo con queso</td>\n",
       "      <td>13</td>\n",
       "      <td>09</td>\n",
       "      <td>Coca cola</td>\n",
       "    </tr>\n",
       "    <tr>\n",
       "      <th>26</th>\n",
       "      <td>Menú de Pollo con queso</td>\n",
       "      <td>13</td>\n",
       "      <td>15</td>\n",
       "      <td>Helado</td>\n",
       "    </tr>\n",
       "  </tbody>\n",
       "</table>\n",
       "</div>"
      ],
      "text/plain": [
       "   Nombre del producto que compone el pedido Código producto  \\\n",
       "0              Menú de Hamburguesa con queso              12   \n",
       "1              Menú de Hamburguesa con queso              12   \n",
       "2              Menú de Hamburguesa con queso              12   \n",
       "3              Menú de Hamburguesa con queso              12   \n",
       "4              Menú de Hamburguesa con queso              12   \n",
       "5                    Menú de Pollo con queso              13   \n",
       "6                    Menú de Pollo con queso              13   \n",
       "7                    Menú de Pollo con queso              13   \n",
       "8                    Menú de Pollo con queso              13   \n",
       "9                    Menú de Pollo con queso              13   \n",
       "10                   Menú de Pollo con queso              13   \n",
       "11             Menú de Hamburguesa con queso              12   \n",
       "12             Menú de Hamburguesa con queso              12   \n",
       "13             Menú de Hamburguesa con queso              12   \n",
       "14             Menú de Hamburguesa con queso              12   \n",
       "15             Menú de Hamburguesa con queso              12   \n",
       "16                             Menú de Pollo              11   \n",
       "17                             Menú de Pollo              11   \n",
       "18                             Menú de Pollo              11   \n",
       "19                             Menú de Pollo              11   \n",
       "20                             Menú de Pollo              11   \n",
       "21                   Menú de Pollo con queso              13   \n",
       "22                   Menú de Pollo con queso              13   \n",
       "23                   Menú de Pollo con queso              13   \n",
       "24                   Menú de Pollo con queso              13   \n",
       "25                   Menú de Pollo con queso              13   \n",
       "26                   Menú de Pollo con queso              13   \n",
       "\n",
       "   Código producto que lo compone Descripción producto que lo compone  \n",
       "0                              01                         Hamburguesa  \n",
       "1                              02                             Patatas  \n",
       "2                              04                               Queso  \n",
       "3                              10                              Nestea  \n",
       "4                              16                               Tarta  \n",
       "5                              02                             Patatas  \n",
       "6                              04                               Queso  \n",
       "7                              06                               Pollo  \n",
       "8                              08                               Bacon  \n",
       "9                              09                           Coca cola  \n",
       "10                             15                              Helado  \n",
       "11                             01                         Hamburguesa  \n",
       "12                             02                             Patatas  \n",
       "13                             04                               Queso  \n",
       "14                             10                              Nestea  \n",
       "15                             16                               Tarta  \n",
       "16                             02                             Patatas  \n",
       "17                             03                              tomate  \n",
       "18                             06                               Pollo  \n",
       "19                             17                               Fruta  \n",
       "20                             18                                Agua  \n",
       "21                             02                             Patatas  \n",
       "22                             04                               Queso  \n",
       "23                             06                               Pollo  \n",
       "24                             08                               Bacon  \n",
       "25                             09                           Coca cola  \n",
       "26                             15                              Helado  "
      ]
     },
     "execution_count": 131,
     "metadata": {},
     "output_type": "execute_result"
    }
   ],
   "source": [
    "df15 = pd.read_sql(query15, connection) \n",
    "df15"
   ]
  }
 ],
 "metadata": {
  "kernelspec": {
   "display_name": "Python 3",
   "language": "python",
   "name": "python3"
  },
  "language_info": {
   "codemirror_mode": {
    "name": "ipython",
    "version": 3
   },
   "file_extension": ".py",
   "mimetype": "text/x-python",
   "name": "python",
   "nbconvert_exporter": "python",
   "pygments_lexer": "ipython3",
   "version": "3.10.10"
  }
 },
 "nbformat": 4,
 "nbformat_minor": 2
}
